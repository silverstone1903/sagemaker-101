{
 "cells": [
  {
   "cell_type": "code",
   "execution_count": 1,
   "id": "11694869-bcae-48cd-98bb-2d85f3ead96e",
   "metadata": {},
   "outputs": [],
   "source": [
    "import pandas as pd\n",
    "import numpy as np\n",
    "from sklearn.preprocessing import LabelEncoder, StandardScaler, MinMaxScaler\n",
    "from sklearn.model_selection import train_test_split\n",
    "\n",
    "pd.options.display.max_columns = 50"
   ]
  },
  {
   "cell_type": "code",
   "execution_count": 2,
   "id": "dfae35a7-4315-4cf5-9ef1-bca4553e1b5d",
   "metadata": {},
   "outputs": [
    {
     "name": "stdout",
     "output_type": "stream",
     "text": [
      "--2023-12-24 11:44:57--  https://raw.githubusercontent.com/silverstone1903/hr-attrition-mlops/master/data/HR-Employee-Attrition.csv\n",
      "Resolving raw.githubusercontent.com (raw.githubusercontent.com)... 185.199.110.133, 185.199.111.133, 185.199.108.133, ...\n",
      "Connecting to raw.githubusercontent.com (raw.githubusercontent.com)|185.199.110.133|:443... connected.\n",
      "HTTP request sent, awaiting response... 200 OK\n",
      "Length: 226506 (221K) [text/plain]\n",
      "Saving to: ‘HR-Employee-Attrition.csv.1’\n",
      "\n",
      "HR-Employee-Attriti 100%[===================>] 221.20K  --.-KB/s    in 0.005s  \n",
      "\n",
      "2023-12-24 11:44:57 (40.5 MB/s) - ‘HR-Employee-Attrition.csv.1’ saved [226506/226506]\n",
      "\n"
     ]
    }
   ],
   "source": [
    "!wget https://raw.githubusercontent.com/silverstone1903/hr-attrition-mlops/master/data/HR-Employee-Attrition.csv "
   ]
  },
  {
   "cell_type": "code",
   "execution_count": 3,
   "id": "1d5cc10b-c455-4185-9551-2cb56b1ed7e9",
   "metadata": {},
   "outputs": [],
   "source": [
    "data_name = \"HR-Employee-Attrition.csv\""
   ]
  },
  {
   "cell_type": "code",
   "execution_count": 11,
   "id": "2c897899-890d-4fed-bec6-84f80cbb3c1c",
   "metadata": {},
   "outputs": [],
   "source": [
    "# Github: https://github.com/silverstone1903/hr-attrition-mlops/tree/master/ml\n",
    "class config:\n",
    "    columns = [\n",
    "        \"BusinessTravel\",\n",
    "        \"DailyRate\",\n",
    "        \"Department\",\n",
    "        \"DistanceFromHome\",\n",
    "        \"Education\",\n",
    "        \"EducationField\",\n",
    "        \"EnvironmentSatisfaction\",\n",
    "        \"Gender\",\n",
    "        \"JobInvolvement\",\n",
    "        \"JobLevel\",\n",
    "        \"JobRole\",\n",
    "        \"JobSatisfaction\",\n",
    "        \"MaritalStatus\",\n",
    "        \"MonthlyIncome\",\n",
    "        \"NumCompaniesWorked\",\n",
    "        \"OverTime\",\n",
    "        \"StockOptionLevel\",\n",
    "        \"WorkLifeBalance\",\n",
    "    ]\n",
    "\n",
    "\n",
    "def read_data(path):\n",
    "    data = pd.read_csv(path)\n",
    "    data[\"Attrition\"] = data[\"Attrition\"].map({\"Yes\": 1, \"No\": 0})\n",
    "    constant_cols = data.nunique()[data.nunique() == 1].keys().tolist()\n",
    "    data.drop(constant_cols, axis=1, inplace=True)\n",
    "    cols = [c for c in data.columns if c in config().columns + [\"Attrition\"]]\n",
    "\n",
    "    return data[cols]\n",
    "\n",
    "\n",
    "def replace_categories(df, var, target):\n",
    "    ordered_labels = (\n",
    "        df.groupby([var])[target].mean().to_frame().sort_values(target).index\n",
    "    )\n",
    "    ordinal_label = {k: i for i, k in enumerate(ordered_labels, 0)}\n",
    "    df[var] = df[var].map(ordinal_label)\n",
    "\n",
    "    return ordinal_label\n",
    "\n",
    "\n",
    "def preprocessing(data):\n",
    "    target = \"Attrition\"\n",
    "    cat_cols = [cat for cat in data.select_dtypes(\"O\").columns.tolist()]\n",
    "\n",
    "    df = data.copy()\n",
    "    df = df.replace([np.inf, -np.inf], np.nan)\n",
    "\n",
    "    label_list = []\n",
    "    for var in cat_cols:\n",
    "        lbl = replace_categories(df, var, target)\n",
    "        label_list.append((var, lbl))\n",
    "\n",
    "    return df, dict(label_list)\n",
    "\n",
    "\n",
    "def data_split(data):\n",
    "    target = \"Attrition\"\n",
    "    train_cols = [c for c in data.columns if c not in [target]]\n",
    "\n",
    "    x_train, x_test, y_train, y_test = train_test_split(\n",
    "        data[train_cols],\n",
    "        data[target],\n",
    "        test_size=0.2,\n",
    "        random_state=2023,\n",
    "        stratify=data[target],\n",
    "    )\n",
    "\n",
    "    x_train, x_val, y_train, y_val = train_test_split(\n",
    "        x_train[train_cols], y_train, test_size=0.2, random_state=2023, stratify=y_train\n",
    "    )\n",
    "\n",
    "    return x_train, x_test, x_val, y_train, y_test, y_val, train_cols, target"
   ]
  },
  {
   "cell_type": "code",
   "execution_count": 12,
   "id": "7b083150-0f34-43a4-bc8d-a8475d027933",
   "metadata": {},
   "outputs": [],
   "source": [
    "df = read_data(data_name)\n",
    "df, labels = preprocessing(df)\n",
    "x_train, x_test, x_val, y_train, y_test, y_val, train_cols, target = data_split(df)"
   ]
  },
  {
   "cell_type": "code",
   "execution_count": 13,
   "id": "413eadfe-858f-48fb-9845-5d868cabe4f1",
   "metadata": {},
   "outputs": [
    {
     "data": {
      "text/plain": [
       "((940, 18), (294, 18), (236, 18))"
      ]
     },
     "execution_count": 13,
     "metadata": {},
     "output_type": "execute_result"
    }
   ],
   "source": [
    "x_train.shape, x_test.shape, x_val.shape"
   ]
  },
  {
   "cell_type": "code",
   "execution_count": 14,
   "id": "24521b38-c1d8-4fc2-8a49-33c2a988bd14",
   "metadata": {},
   "outputs": [],
   "source": [
    "bucket = \"bucket_path\"\n",
    "prefix = \"raw_data\""
   ]
  },
  {
   "cell_type": "code",
   "execution_count": 15,
   "id": "bd64d6c6-cdd6-4707-950e-af52b6238f9c",
   "metadata": {},
   "outputs": [
    {
     "name": "stdout",
     "output_type": "stream",
     "text": [
      "sagemaker.config INFO - Not applying SDK defaults from location: /etc/xdg/sagemaker/config.yaml\n",
      "sagemaker.config INFO - Not applying SDK defaults from location: /home/sagemaker-user/.config/sagemaker/config.yaml\n",
      "sagemaker.config INFO - Not applying SDK defaults from location: /etc/xdg/sagemaker/config.yaml\n",
      "sagemaker.config INFO - Not applying SDK defaults from location: /home/sagemaker-user/.config/sagemaker/config.yaml\n"
     ]
    }
   ],
   "source": [
    "import sagemaker\n",
    "\n",
    "sess = sagemaker.Session()"
   ]
  },
  {
   "cell_type": "code",
   "execution_count": null,
   "id": "702dc7c2-9e8a-43bb-855c-7a01352b762c",
   "metadata": {},
   "outputs": [],
   "source": [
    "pd.concat([y_train, x_train], axis=1).to_csv(\"train.csv\", index=False, header=False)\n",
    "sess.upload_data(path=\"train.csv\", bucket=bucket, key_prefix=prefix + \"/train\")"
   ]
  },
  {
   "cell_type": "code",
   "execution_count": null,
   "id": "1c132118-39aa-473a-9038-e5660a6e22dc",
   "metadata": {},
   "outputs": [],
   "source": [
    "pd.concat([y_val, x_val], axis=1).to_csv(\"validation.csv\", index=False, header=False)\n",
    "sess.upload_data(\n",
    "    path=\"validation.csv\", bucket=bucket, key_prefix=prefix + \"/validation\"\n",
    ")"
   ]
  },
  {
   "cell_type": "code",
   "execution_count": 18,
   "id": "27635962-db9c-46c3-bda0-49373248f029",
   "metadata": {},
   "outputs": [],
   "source": [
    "from sagemaker.inputs import TrainingInput\n",
    "\n",
    "s3_input_train = TrainingInput(\n",
    "    s3_data=f\"s3://{bucket}/{prefix}/train\", content_type=\"csv\"\n",
    ")\n",
    "\n",
    "s3_input_validation = TrainingInput(\n",
    "    s3_data=f\"s3://{bucket}/{prefix}/validation/\", content_type=\"csv\"\n",
    ")"
   ]
  },
  {
   "cell_type": "code",
   "execution_count": 19,
   "id": "44a04dff-1584-457e-86dd-b7154415061a",
   "metadata": {},
   "outputs": [
    {
     "name": "stdout",
     "output_type": "stream",
     "text": [
      "sagemaker.config INFO - Not applying SDK defaults from location: /etc/xdg/sagemaker/config.yaml\n",
      "sagemaker.config INFO - Not applying SDK defaults from location: /home/sagemaker-user/.config/sagemaker/config.yaml\n"
     ]
    }
   ],
   "source": [
    "import boto3\n",
    "\n",
    "region = boto3.Session().region_name\n",
    "role = sagemaker.get_execution_role()\n",
    "instance_type = \"ml.m4.xlarge\""
   ]
  },
  {
   "cell_type": "code",
   "execution_count": 20,
   "id": "f754686a-3bed-4309-8ed0-be0c6e6bccf8",
   "metadata": {},
   "outputs": [],
   "source": [
    "container = sagemaker.image_uris.retrieve(\n",
    "    framework=\"xgboost\", region=region, version=\"latest\"\n",
    ")"
   ]
  },
  {
   "cell_type": "code",
   "execution_count": 21,
   "id": "fcbaada6-9538-4852-8340-8112d966c82b",
   "metadata": {},
   "outputs": [],
   "source": [
    "from sagemaker.estimator import Estimator\n",
    "\n",
    "xgb = Estimator(\n",
    "    container,\n",
    "    role,\n",
    "    sagemaker_session=sess,\n",
    "    instance_count=1,\n",
    "    instance_type=instance_type,\n",
    "    input_mode=\"File\",\n",
    "    output_path=f\"s3://{bucket}/{prefix}/output\",\n",
    "    train_use_spot_instance=True,\n",
    ")"
   ]
  },
  {
   "cell_type": "code",
   "execution_count": 22,
   "id": "4a55c5ad-f996-46cb-b3cf-1774c95c0a56",
   "metadata": {},
   "outputs": [],
   "source": [
    "xgb.set_hyperparameters(\n",
    "    eta=0.1,\n",
    "    max_depth=7,\n",
    "    min_child_weight=5,\n",
    "    subsample=0.8,\n",
    "    colsample_bytree=0.8,\n",
    "    objective=\"binary:logistic\",\n",
    "    num_round=150,\n",
    ")"
   ]
  },
  {
   "cell_type": "code",
   "execution_count": 23,
   "id": "142b14ac-3a6c-435d-a1be-0088e53a0562",
   "metadata": {},
   "outputs": [
    {
     "name": "stderr",
     "output_type": "stream",
     "text": [
      "INFO:sagemaker:Creating training-job with name: xgboost-2023-12-24-11-48-15-310\n"
     ]
    },
    {
     "name": "stdout",
     "output_type": "stream",
     "text": [
      "2023-12-24 11:48:15 Starting - Starting the training job......\n",
      "2023-12-24 11:48:50 Starting - Preparing the instances for training......\n",
      "2023-12-24 11:49:59 Downloading - Downloading input data...\n",
      "2023-12-24 11:50:29 Downloading - Downloading the training image......\n",
      "2023-12-24 11:51:40 Training - Training image download completed. Training in progress.\n",
      "2023-12-24 11:51:40 Uploading - Uploading generated training model\u001b[34mArguments: train\u001b[0m\n",
      "\u001b[34m[2023-12-24:11:51:33:INFO] Running standalone xgboost training.\u001b[0m\n",
      "\u001b[34m[2023-12-24:11:51:33:INFO] File size need to be processed in the node: 0.05mb. Available memory size in the node: 8536.98mb\u001b[0m\n",
      "\u001b[34m[2023-12-24:11:51:33:INFO] Determined delimiter of CSV input is ','\u001b[0m\n",
      "\u001b[34m[11:51:33] S3DistributionType set as FullyReplicated\u001b[0m\n",
      "\u001b[34m[11:51:33] 940x18 matrix with 16920 entries loaded from /opt/ml/input/data/train?format=csv&label_column=0&delimiter=,\u001b[0m\n",
      "\u001b[34m[2023-12-24:11:51:33:INFO] Determined delimiter of CSV input is ','\u001b[0m\n",
      "\u001b[34m[11:51:33] S3DistributionType set as FullyReplicated\u001b[0m\n",
      "\u001b[34m[11:51:33] 236x18 matrix with 4248 entries loaded from /opt/ml/input/data/validation?format=csv&label_column=0&delimiter=,\u001b[0m\n",
      "\u001b[34m[11:51:33] src/tree/updater_prune.cc:74: tree pruning end, 1 roots, 20 extra nodes, 0 pruned nodes, max_depth=6\u001b[0m\n",
      "\u001b[34m[0]#011train-error:0.157447#011validation-error:0.173729\u001b[0m\n",
      "\u001b[34m[11:51:33] src/tree/updater_prune.cc:74: tree pruning end, 1 roots, 24 extra nodes, 0 pruned nodes, max_depth=5\u001b[0m\n",
      "\u001b[34m[1]#011train-error:0.140426#011validation-error:0.169492\u001b[0m\n",
      "\u001b[34m[11:51:33] src/tree/updater_prune.cc:74: tree pruning end, 1 roots, 18 extra nodes, 0 pruned nodes, max_depth=4\u001b[0m\n",
      "\u001b[34m[2]#011train-error:0.132979#011validation-error:0.152542\u001b[0m\n",
      "\u001b[34m[11:51:33] src/tree/updater_prune.cc:74: tree pruning end, 1 roots, 20 extra nodes, 0 pruned nodes, max_depth=6\u001b[0m\n",
      "\u001b[34m[3]#011train-error:0.131915#011validation-error:0.144068\u001b[0m\n",
      "\u001b[34m[11:51:33] src/tree/updater_prune.cc:74: tree pruning end, 1 roots, 20 extra nodes, 0 pruned nodes, max_depth=5\u001b[0m\n",
      "\u001b[34m[4]#011train-error:0.130851#011validation-error:0.144068\u001b[0m\n",
      "\u001b[34m[11:51:33] src/tree/updater_prune.cc:74: tree pruning end, 1 roots, 26 extra nodes, 0 pruned nodes, max_depth=6\u001b[0m\n",
      "\u001b[34m[5]#011train-error:0.131915#011validation-error:0.144068\u001b[0m\n",
      "\u001b[34m[11:51:33] src/tree/updater_prune.cc:74: tree pruning end, 1 roots, 34 extra nodes, 0 pruned nodes, max_depth=7\u001b[0m\n",
      "\u001b[34m[6]#011train-error:0.126596#011validation-error:0.139831\u001b[0m\n",
      "\u001b[34m[11:51:33] src/tree/updater_prune.cc:74: tree pruning end, 1 roots, 36 extra nodes, 0 pruned nodes, max_depth=7\u001b[0m\n",
      "\u001b[34m[7]#011train-error:0.129787#011validation-error:0.135593\u001b[0m\n",
      "\u001b[34m[11:51:33] src/tree/updater_prune.cc:74: tree pruning end, 1 roots, 32 extra nodes, 0 pruned nodes, max_depth=7\u001b[0m\n",
      "\u001b[34m[8]#011train-error:0.126596#011validation-error:0.131356\u001b[0m\n",
      "\u001b[34m[11:51:33] src/tree/updater_prune.cc:74: tree pruning end, 1 roots, 30 extra nodes, 0 pruned nodes, max_depth=7\u001b[0m\n",
      "\u001b[34m[9]#011train-error:0.126596#011validation-error:0.135593\u001b[0m\n",
      "\u001b[34m[11:51:33] src/tree/updater_prune.cc:74: tree pruning end, 1 roots, 32 extra nodes, 0 pruned nodes, max_depth=6\u001b[0m\n",
      "\u001b[34m[10]#011train-error:0.12766#011validation-error:0.148305\u001b[0m\n",
      "\u001b[34m[11:51:33] src/tree/updater_prune.cc:74: tree pruning end, 1 roots, 34 extra nodes, 0 pruned nodes, max_depth=6\u001b[0m\n",
      "\u001b[34m[11]#011train-error:0.125532#011validation-error:0.135593\u001b[0m\n",
      "\u001b[34m[11:51:33] src/tree/updater_prune.cc:74: tree pruning end, 1 roots, 28 extra nodes, 0 pruned nodes, max_depth=6\u001b[0m\n",
      "\u001b[34m[12]#011train-error:0.124468#011validation-error:0.135593\u001b[0m\n",
      "\u001b[34m[11:51:33] src/tree/updater_prune.cc:74: tree pruning end, 1 roots, 30 extra nodes, 0 pruned nodes, max_depth=7\u001b[0m\n",
      "\u001b[34m[13]#011train-error:0.117021#011validation-error:0.135593\u001b[0m\n",
      "\u001b[34m[11:51:33] src/tree/updater_prune.cc:74: tree pruning end, 1 roots, 32 extra nodes, 0 pruned nodes, max_depth=7\u001b[0m\n",
      "\u001b[34m[14]#011train-error:0.119149#011validation-error:0.135593\u001b[0m\n",
      "\u001b[34m[11:51:33] src/tree/updater_prune.cc:74: tree pruning end, 1 roots, 32 extra nodes, 0 pruned nodes, max_depth=6\u001b[0m\n",
      "\u001b[34m[15]#011train-error:0.115957#011validation-error:0.144068\u001b[0m\n",
      "\u001b[34m[11:51:33] src/tree/updater_prune.cc:74: tree pruning end, 1 roots, 30 extra nodes, 0 pruned nodes, max_depth=7\u001b[0m\n",
      "\u001b[34m[16]#011train-error:0.117021#011validation-error:0.144068\u001b[0m\n",
      "\u001b[34m[11:51:33] src/tree/updater_prune.cc:74: tree pruning end, 1 roots, 28 extra nodes, 0 pruned nodes, max_depth=6\u001b[0m\n",
      "\u001b[34m[17]#011train-error:0.115957#011validation-error:0.144068\u001b[0m\n",
      "\u001b[34m[11:51:33] src/tree/updater_prune.cc:74: tree pruning end, 1 roots, 28 extra nodes, 0 pruned nodes, max_depth=6\u001b[0m\n",
      "\u001b[34m[18]#011train-error:0.117021#011validation-error:0.144068\u001b[0m\n",
      "\u001b[34m[11:51:33] src/tree/updater_prune.cc:74: tree pruning end, 1 roots, 28 extra nodes, 0 pruned nodes, max_depth=7\u001b[0m\n",
      "\u001b[34m[19]#011train-error:0.112766#011validation-error:0.148305\u001b[0m\n",
      "\u001b[34m[11:51:33] src/tree/updater_prune.cc:74: tree pruning end, 1 roots, 28 extra nodes, 0 pruned nodes, max_depth=5\u001b[0m\n",
      "\u001b[34m[20]#011train-error:0.11383#011validation-error:0.148305\u001b[0m\n",
      "\u001b[34m[11:51:33] src/tree/updater_prune.cc:74: tree pruning end, 1 roots, 26 extra nodes, 0 pruned nodes, max_depth=6\u001b[0m\n",
      "\u001b[34m[21]#011train-error:0.11383#011validation-error:0.148305\u001b[0m\n",
      "\u001b[34m[11:51:33] src/tree/updater_prune.cc:74: tree pruning end, 1 roots, 26 extra nodes, 0 pruned nodes, max_depth=7\u001b[0m\n",
      "\u001b[34m[22]#011train-error:0.112766#011validation-error:0.148305\u001b[0m\n",
      "\u001b[34m[11:51:33] src/tree/updater_prune.cc:74: tree pruning end, 1 roots, 28 extra nodes, 0 pruned nodes, max_depth=5\u001b[0m\n",
      "\u001b[34m[23]#011train-error:0.11383#011validation-error:0.148305\u001b[0m\n",
      "\u001b[34m[11:51:33] src/tree/updater_prune.cc:74: tree pruning end, 1 roots, 26 extra nodes, 0 pruned nodes, max_depth=6\u001b[0m\n",
      "\u001b[34m[24]#011train-error:0.112766#011validation-error:0.148305\u001b[0m\n",
      "\u001b[34m[11:51:33] src/tree/updater_prune.cc:74: tree pruning end, 1 roots, 28 extra nodes, 0 pruned nodes, max_depth=6\u001b[0m\n",
      "\u001b[34m[25]#011train-error:0.109574#011validation-error:0.139831\u001b[0m\n",
      "\u001b[34m[11:51:33] src/tree/updater_prune.cc:74: tree pruning end, 1 roots, 28 extra nodes, 0 pruned nodes, max_depth=5\u001b[0m\n",
      "\u001b[34m[26]#011train-error:0.108511#011validation-error:0.139831\u001b[0m\n",
      "\u001b[34m[11:51:33] src/tree/updater_prune.cc:74: tree pruning end, 1 roots, 24 extra nodes, 0 pruned nodes, max_depth=6\u001b[0m\n",
      "\u001b[34m[27]#011train-error:0.108511#011validation-error:0.135593\u001b[0m\n",
      "\u001b[34m[11:51:33] src/tree/updater_prune.cc:74: tree pruning end, 1 roots, 28 extra nodes, 0 pruned nodes, max_depth=5\u001b[0m\n",
      "\u001b[34m[28]#011train-error:0.109574#011validation-error:0.131356\u001b[0m\n",
      "\u001b[34m[11:51:33] src/tree/updater_prune.cc:74: tree pruning end, 1 roots, 24 extra nodes, 0 pruned nodes, max_depth=6\u001b[0m\n",
      "\u001b[34m[29]#011train-error:0.109574#011validation-error:0.131356\u001b[0m\n",
      "\u001b[34m[11:51:33] src/tree/updater_prune.cc:74: tree pruning end, 1 roots, 26 extra nodes, 0 pruned nodes, max_depth=5\u001b[0m\n",
      "\u001b[34m[30]#011train-error:0.107447#011validation-error:0.131356\u001b[0m\n",
      "\u001b[34m[11:51:33] src/tree/updater_prune.cc:74: tree pruning end, 1 roots, 26 extra nodes, 0 pruned nodes, max_depth=7\u001b[0m\n",
      "\u001b[34m[31]#011train-error:0.107447#011validation-error:0.127119\u001b[0m\n",
      "\u001b[34m[11:51:33] src/tree/updater_prune.cc:74: tree pruning end, 1 roots, 28 extra nodes, 0 pruned nodes, max_depth=7\u001b[0m\n",
      "\u001b[34m[32]#011train-error:0.104255#011validation-error:0.127119\u001b[0m\n",
      "\u001b[34m[11:51:33] src/tree/updater_prune.cc:74: tree pruning end, 1 roots, 24 extra nodes, 0 pruned nodes, max_depth=5\u001b[0m\n",
      "\u001b[34m[33]#011train-error:0.105319#011validation-error:0.127119\u001b[0m\n",
      "\u001b[34m[11:51:33] src/tree/updater_prune.cc:74: tree pruning end, 1 roots, 20 extra nodes, 0 pruned nodes, max_depth=7\u001b[0m\n",
      "\u001b[34m[34]#011train-error:0.102128#011validation-error:0.127119\u001b[0m\n",
      "\u001b[34m[11:51:33] src/tree/updater_prune.cc:74: tree pruning end, 1 roots, 22 extra nodes, 0 pruned nodes, max_depth=5\u001b[0m\n",
      "\u001b[34m[35]#011train-error:0.101064#011validation-error:0.127119\u001b[0m\n",
      "\u001b[34m[11:51:33] src/tree/updater_prune.cc:74: tree pruning end, 1 roots, 24 extra nodes, 0 pruned nodes, max_depth=6\u001b[0m\n",
      "\u001b[34m[36]#011train-error:0.101064#011validation-error:0.122881\u001b[0m\n",
      "\u001b[34m[11:51:33] src/tree/updater_prune.cc:74: tree pruning end, 1 roots, 20 extra nodes, 0 pruned nodes, max_depth=7\u001b[0m\n",
      "\u001b[34m[37]#011train-error:0.1#011validation-error:0.122881\u001b[0m\n",
      "\u001b[34m[11:51:33] src/tree/updater_prune.cc:74: tree pruning end, 1 roots, 24 extra nodes, 0 pruned nodes, max_depth=7\u001b[0m\n",
      "\u001b[34m[38]#011train-error:0.097872#011validation-error:0.127119\u001b[0m\n",
      "\u001b[34m[11:51:33] src/tree/updater_prune.cc:74: tree pruning end, 1 roots, 22 extra nodes, 0 pruned nodes, max_depth=7\u001b[0m\n",
      "\u001b[34m[39]#011train-error:0.095745#011validation-error:0.122881\u001b[0m\n",
      "\u001b[34m[11:51:33] src/tree/updater_prune.cc:74: tree pruning end, 1 roots, 16 extra nodes, 0 pruned nodes, max_depth=7\u001b[0m\n",
      "\u001b[34m[40]#011train-error:0.095745#011validation-error:0.127119\u001b[0m\n",
      "\u001b[34m[11:51:33] src/tree/updater_prune.cc:74: tree pruning end, 1 roots, 24 extra nodes, 0 pruned nodes, max_depth=6\u001b[0m\n",
      "\u001b[34m[41]#011train-error:0.094681#011validation-error:0.118644\u001b[0m\n",
      "\u001b[34m[11:51:33] src/tree/updater_prune.cc:74: tree pruning end, 1 roots, 24 extra nodes, 0 pruned nodes, max_depth=6\u001b[0m\n",
      "\u001b[34m[42]#011train-error:0.096809#011validation-error:0.118644\u001b[0m\n",
      "\u001b[34m[11:51:33] src/tree/updater_prune.cc:74: tree pruning end, 1 roots, 22 extra nodes, 0 pruned nodes, max_depth=7\u001b[0m\n",
      "\u001b[34m[43]#011train-error:0.090426#011validation-error:0.118644\u001b[0m\n",
      "\u001b[34m[11:51:33] src/tree/updater_prune.cc:74: tree pruning end, 1 roots, 22 extra nodes, 0 pruned nodes, max_depth=5\u001b[0m\n",
      "\u001b[34m[44]#011train-error:0.090426#011validation-error:0.118644\u001b[0m\n",
      "\u001b[34m[11:51:33] src/tree/updater_prune.cc:74: tree pruning end, 1 roots, 22 extra nodes, 0 pruned nodes, max_depth=7\u001b[0m\n",
      "\u001b[34m[45]#011train-error:0.091489#011validation-error:0.122881\u001b[0m\n",
      "\u001b[34m[11:51:33] src/tree/updater_prune.cc:74: tree pruning end, 1 roots, 20 extra nodes, 0 pruned nodes, max_depth=5\u001b[0m\n",
      "\u001b[34m[46]#011train-error:0.091489#011validation-error:0.122881\u001b[0m\n",
      "\u001b[34m[11:51:33] src/tree/updater_prune.cc:74: tree pruning end, 1 roots, 20 extra nodes, 0 pruned nodes, max_depth=6\u001b[0m\n",
      "\u001b[34m[47]#011train-error:0.092553#011validation-error:0.122881\u001b[0m\n",
      "\u001b[34m[11:51:33] src/tree/updater_prune.cc:74: tree pruning end, 1 roots, 24 extra nodes, 0 pruned nodes, max_depth=6\u001b[0m\n",
      "\u001b[34m[48]#011train-error:0.092553#011validation-error:0.122881\u001b[0m\n",
      "\u001b[34m[11:51:33] src/tree/updater_prune.cc:74: tree pruning end, 1 roots, 22 extra nodes, 0 pruned nodes, max_depth=7\u001b[0m\n",
      "\u001b[34m[49]#011train-error:0.089362#011validation-error:0.122881\u001b[0m\n",
      "\u001b[34m[11:51:33] src/tree/updater_prune.cc:74: tree pruning end, 1 roots, 20 extra nodes, 0 pruned nodes, max_depth=7\u001b[0m\n",
      "\u001b[34m[50]#011train-error:0.085106#011validation-error:0.122881\u001b[0m\n",
      "\u001b[34m[11:51:33] src/tree/updater_prune.cc:74: tree pruning end, 1 roots, 18 extra nodes, 0 pruned nodes, max_depth=7\u001b[0m\n",
      "\u001b[34m[51]#011train-error:0.082979#011validation-error:0.127119\u001b[0m\n",
      "\u001b[34m[11:51:33] src/tree/updater_prune.cc:74: tree pruning end, 1 roots, 20 extra nodes, 0 pruned nodes, max_depth=5\u001b[0m\n",
      "\u001b[34m[52]#011train-error:0.084043#011validation-error:0.131356\u001b[0m\n",
      "\u001b[34m[11:51:33] src/tree/updater_prune.cc:74: tree pruning end, 1 roots, 20 extra nodes, 0 pruned nodes, max_depth=5\u001b[0m\n",
      "\u001b[34m[53]#011train-error:0.081915#011validation-error:0.118644\u001b[0m\n",
      "\u001b[34m[11:51:33] src/tree/updater_prune.cc:74: tree pruning end, 1 roots, 18 extra nodes, 0 pruned nodes, max_depth=6\u001b[0m\n",
      "\u001b[34m[54]#011train-error:0.081915#011validation-error:0.114407\u001b[0m\n",
      "\u001b[34m[11:51:33] src/tree/updater_prune.cc:74: tree pruning end, 1 roots, 22 extra nodes, 0 pruned nodes, max_depth=6\u001b[0m\n",
      "\u001b[34m[55]#011train-error:0.080851#011validation-error:0.118644\u001b[0m\n",
      "\u001b[34m[11:51:33] src/tree/updater_prune.cc:74: tree pruning end, 1 roots, 18 extra nodes, 0 pruned nodes, max_depth=7\u001b[0m\n",
      "\u001b[34m[56]#011train-error:0.078723#011validation-error:0.127119\u001b[0m\n",
      "\u001b[34m[11:51:33] src/tree/updater_prune.cc:74: tree pruning end, 1 roots, 22 extra nodes, 0 pruned nodes, max_depth=7\u001b[0m\n",
      "\u001b[34m[57]#011train-error:0.079787#011validation-error:0.127119\u001b[0m\n",
      "\u001b[34m[11:51:33] src/tree/updater_prune.cc:74: tree pruning end, 1 roots, 18 extra nodes, 0 pruned nodes, max_depth=7\u001b[0m\n",
      "\u001b[34m[58]#011train-error:0.079787#011validation-error:0.122881\u001b[0m\n",
      "\u001b[34m[11:51:33] src/tree/updater_prune.cc:74: tree pruning end, 1 roots, 18 extra nodes, 0 pruned nodes, max_depth=5\u001b[0m\n",
      "\u001b[34m[59]#011train-error:0.079787#011validation-error:0.122881\u001b[0m\n",
      "\u001b[34m[11:51:33] src/tree/updater_prune.cc:74: tree pruning end, 1 roots, 18 extra nodes, 0 pruned nodes, max_depth=6\u001b[0m\n",
      "\u001b[34m[60]#011train-error:0.080851#011validation-error:0.127119\u001b[0m\n",
      "\u001b[34m[11:51:33] src/tree/updater_prune.cc:74: tree pruning end, 1 roots, 16 extra nodes, 0 pruned nodes, max_depth=7\u001b[0m\n",
      "\u001b[34m[61]#011train-error:0.080851#011validation-error:0.131356\u001b[0m\n",
      "\u001b[34m[11:51:33] src/tree/updater_prune.cc:74: tree pruning end, 1 roots, 20 extra nodes, 0 pruned nodes, max_depth=5\u001b[0m\n",
      "\u001b[34m[62]#011train-error:0.080851#011validation-error:0.127119\u001b[0m\n",
      "\u001b[34m[11:51:33] src/tree/updater_prune.cc:74: tree pruning end, 1 roots, 20 extra nodes, 0 pruned nodes, max_depth=6\u001b[0m\n",
      "\u001b[34m[63]#011train-error:0.079787#011validation-error:0.127119\u001b[0m\n",
      "\u001b[34m[11:51:33] src/tree/updater_prune.cc:74: tree pruning end, 1 roots, 18 extra nodes, 0 pruned nodes, max_depth=7\u001b[0m\n",
      "\u001b[34m[64]#011train-error:0.074468#011validation-error:0.127119\u001b[0m\n",
      "\u001b[34m[11:51:33] src/tree/updater_prune.cc:74: tree pruning end, 1 roots, 20 extra nodes, 0 pruned nodes, max_depth=5\u001b[0m\n",
      "\u001b[34m[65]#011train-error:0.071277#011validation-error:0.122881\u001b[0m\n",
      "\u001b[34m[11:51:33] src/tree/updater_prune.cc:74: tree pruning end, 1 roots, 18 extra nodes, 0 pruned nodes, max_depth=5\u001b[0m\n",
      "\u001b[34m[66]#011train-error:0.07234#011validation-error:0.122881\u001b[0m\n",
      "\u001b[34m[11:51:33] src/tree/updater_prune.cc:74: tree pruning end, 1 roots, 18 extra nodes, 0 pruned nodes, max_depth=5\u001b[0m\n",
      "\u001b[34m[67]#011train-error:0.069149#011validation-error:0.127119\u001b[0m\n",
      "\u001b[34m[11:51:33] src/tree/updater_prune.cc:74: tree pruning end, 1 roots, 18 extra nodes, 0 pruned nodes, max_depth=5\u001b[0m\n",
      "\u001b[34m[68]#011train-error:0.071277#011validation-error:0.127119\u001b[0m\n",
      "\u001b[34m[11:51:33] src/tree/updater_prune.cc:74: tree pruning end, 1 roots, 20 extra nodes, 0 pruned nodes, max_depth=5\u001b[0m\n",
      "\u001b[34m[69]#011train-error:0.071277#011validation-error:0.127119\u001b[0m\n",
      "\u001b[34m[11:51:33] src/tree/updater_prune.cc:74: tree pruning end, 1 roots, 18 extra nodes, 0 pruned nodes, max_depth=7\u001b[0m\n",
      "\u001b[34m[70]#011train-error:0.068085#011validation-error:0.127119\u001b[0m\n",
      "\u001b[34m[11:51:33] src/tree/updater_prune.cc:74: tree pruning end, 1 roots, 18 extra nodes, 0 pruned nodes, max_depth=7\u001b[0m\n",
      "\u001b[34m[71]#011train-error:0.070213#011validation-error:0.118644\u001b[0m\n",
      "\u001b[34m[11:51:33] src/tree/updater_prune.cc:74: tree pruning end, 1 roots, 20 extra nodes, 0 pruned nodes, max_depth=6\u001b[0m\n",
      "\u001b[34m[72]#011train-error:0.067021#011validation-error:0.127119\u001b[0m\n",
      "\u001b[34m[11:51:33] src/tree/updater_prune.cc:74: tree pruning end, 1 roots, 16 extra nodes, 0 pruned nodes, max_depth=7\u001b[0m\n",
      "\u001b[34m[73]#011train-error:0.065957#011validation-error:0.122881\u001b[0m\n",
      "\u001b[34m[11:51:33] src/tree/updater_prune.cc:74: tree pruning end, 1 roots, 18 extra nodes, 0 pruned nodes, max_depth=4\u001b[0m\n",
      "\u001b[34m[74]#011train-error:0.068085#011validation-error:0.127119\u001b[0m\n",
      "\u001b[34m[11:51:33] src/tree/updater_prune.cc:74: tree pruning end, 1 roots, 18 extra nodes, 0 pruned nodes, max_depth=4\u001b[0m\n",
      "\u001b[34m[75]#011train-error:0.065957#011validation-error:0.122881\u001b[0m\n",
      "\u001b[34m[11:51:33] src/tree/updater_prune.cc:74: tree pruning end, 1 roots, 18 extra nodes, 0 pruned nodes, max_depth=5\u001b[0m\n",
      "\u001b[34m[76]#011train-error:0.068085#011validation-error:0.127119\u001b[0m\n",
      "\u001b[34m[11:51:33] src/tree/updater_prune.cc:74: tree pruning end, 1 roots, 16 extra nodes, 0 pruned nodes, max_depth=5\u001b[0m\n",
      "\u001b[34m[77]#011train-error:0.068085#011validation-error:0.122881\u001b[0m\n",
      "\u001b[34m[11:51:33] src/tree/updater_prune.cc:74: tree pruning end, 1 roots, 14 extra nodes, 0 pruned nodes, max_depth=7\u001b[0m\n",
      "\u001b[34m[78]#011train-error:0.065957#011validation-error:0.127119\u001b[0m\n",
      "\u001b[34m[11:51:33] src/tree/updater_prune.cc:74: tree pruning end, 1 roots, 20 extra nodes, 0 pruned nodes, max_depth=7\u001b[0m\n",
      "\u001b[34m[79]#011train-error:0.064894#011validation-error:0.127119\u001b[0m\n",
      "\u001b[34m[11:51:33] src/tree/updater_prune.cc:74: tree pruning end, 1 roots, 16 extra nodes, 0 pruned nodes, max_depth=7\u001b[0m\n",
      "\u001b[34m[80]#011train-error:0.06383#011validation-error:0.122881\u001b[0m\n",
      "\u001b[34m[11:51:33] src/tree/updater_prune.cc:74: tree pruning end, 1 roots, 18 extra nodes, 0 pruned nodes, max_depth=5\u001b[0m\n",
      "\u001b[34m[81]#011train-error:0.065957#011validation-error:0.122881\u001b[0m\n",
      "\u001b[34m[11:51:33] src/tree/updater_prune.cc:74: tree pruning end, 1 roots, 20 extra nodes, 0 pruned nodes, max_depth=7\u001b[0m\n",
      "\u001b[34m[82]#011train-error:0.065957#011validation-error:0.122881\u001b[0m\n",
      "\u001b[34m[11:51:33] src/tree/updater_prune.cc:74: tree pruning end, 1 roots, 20 extra nodes, 0 pruned nodes, max_depth=6\u001b[0m\n",
      "\u001b[34m[83]#011train-error:0.06383#011validation-error:0.122881\u001b[0m\n",
      "\u001b[34m[11:51:33] src/tree/updater_prune.cc:74: tree pruning end, 1 roots, 14 extra nodes, 0 pruned nodes, max_depth=7\u001b[0m\n",
      "\u001b[34m[84]#011train-error:0.061702#011validation-error:0.122881\u001b[0m\n",
      "\u001b[34m[11:51:33] src/tree/updater_prune.cc:74: tree pruning end, 1 roots, 16 extra nodes, 0 pruned nodes, max_depth=7\u001b[0m\n",
      "\u001b[34m[85]#011train-error:0.059574#011validation-error:0.122881\u001b[0m\n",
      "\u001b[34m[11:51:33] src/tree/updater_prune.cc:74: tree pruning end, 1 roots, 18 extra nodes, 0 pruned nodes, max_depth=6\u001b[0m\n",
      "\u001b[34m[86]#011train-error:0.060638#011validation-error:0.127119\u001b[0m\n",
      "\u001b[34m[11:51:33] src/tree/updater_prune.cc:74: tree pruning end, 1 roots, 18 extra nodes, 0 pruned nodes, max_depth=7\u001b[0m\n",
      "\u001b[34m[87]#011train-error:0.057447#011validation-error:0.122881\u001b[0m\n",
      "\u001b[34m[11:51:33] src/tree/updater_prune.cc:74: tree pruning end, 1 roots, 18 extra nodes, 0 pruned nodes, max_depth=6\u001b[0m\n",
      "\u001b[34m[88]#011train-error:0.056383#011validation-error:0.118644\u001b[0m\n",
      "\u001b[34m[11:51:33] src/tree/updater_prune.cc:74: tree pruning end, 1 roots, 18 extra nodes, 0 pruned nodes, max_depth=7\u001b[0m\n",
      "\u001b[34m[89]#011train-error:0.054255#011validation-error:0.122881\u001b[0m\n",
      "\u001b[34m[11:51:33] src/tree/updater_prune.cc:74: tree pruning end, 1 roots, 18 extra nodes, 0 pruned nodes, max_depth=6\u001b[0m\n",
      "\u001b[34m[90]#011train-error:0.052128#011validation-error:0.122881\u001b[0m\n",
      "\u001b[34m[11:51:33] src/tree/updater_prune.cc:74: tree pruning end, 1 roots, 18 extra nodes, 0 pruned nodes, max_depth=5\u001b[0m\n",
      "\u001b[34m[91]#011train-error:0.05#011validation-error:0.118644\u001b[0m\n",
      "\u001b[34m[11:51:33] src/tree/updater_prune.cc:74: tree pruning end, 1 roots, 16 extra nodes, 0 pruned nodes, max_depth=7\u001b[0m\n",
      "\u001b[34m[92]#011train-error:0.05#011validation-error:0.118644\u001b[0m\n",
      "\u001b[34m[11:51:33] src/tree/updater_prune.cc:74: tree pruning end, 1 roots, 20 extra nodes, 0 pruned nodes, max_depth=7\u001b[0m\n",
      "\u001b[34m[93]#011train-error:0.05#011validation-error:0.122881\u001b[0m\n",
      "\u001b[34m[11:51:33] src/tree/updater_prune.cc:74: tree pruning end, 1 roots, 18 extra nodes, 0 pruned nodes, max_depth=7\u001b[0m\n",
      "\u001b[34m[94]#011train-error:0.051064#011validation-error:0.122881\u001b[0m\n",
      "\u001b[34m[11:51:33] src/tree/updater_prune.cc:74: tree pruning end, 1 roots, 16 extra nodes, 0 pruned nodes, max_depth=6\u001b[0m\n",
      "\u001b[34m[95]#011train-error:0.048936#011validation-error:0.127119\u001b[0m\n",
      "\u001b[34m[11:51:33] src/tree/updater_prune.cc:74: tree pruning end, 1 roots, 16 extra nodes, 0 pruned nodes, max_depth=4\u001b[0m\n",
      "\u001b[34m[96]#011train-error:0.047872#011validation-error:0.127119\u001b[0m\n",
      "\u001b[34m[11:51:33] src/tree/updater_prune.cc:74: tree pruning end, 1 roots, 18 extra nodes, 0 pruned nodes, max_depth=6\u001b[0m\n",
      "\u001b[34m[97]#011train-error:0.048936#011validation-error:0.127119\u001b[0m\n",
      "\u001b[34m[11:51:33] src/tree/updater_prune.cc:74: tree pruning end, 1 roots, 16 extra nodes, 0 pruned nodes, max_depth=5\u001b[0m\n",
      "\u001b[34m[98]#011train-error:0.048936#011validation-error:0.127119\u001b[0m\n",
      "\u001b[34m[11:51:33] src/tree/updater_prune.cc:74: tree pruning end, 1 roots, 18 extra nodes, 0 pruned nodes, max_depth=5\u001b[0m\n",
      "\u001b[34m[99]#011train-error:0.047872#011validation-error:0.127119\u001b[0m\n",
      "\u001b[34m[11:51:33] src/tree/updater_prune.cc:74: tree pruning end, 1 roots, 14 extra nodes, 0 pruned nodes, max_depth=4\u001b[0m\n",
      "\u001b[34m[100]#011train-error:0.047872#011validation-error:0.131356\u001b[0m\n",
      "\u001b[34m[11:51:33] src/tree/updater_prune.cc:74: tree pruning end, 1 roots, 18 extra nodes, 0 pruned nodes, max_depth=5\u001b[0m\n",
      "\u001b[34m[101]#011train-error:0.047872#011validation-error:0.131356\u001b[0m\n",
      "\u001b[34m[11:51:33] src/tree/updater_prune.cc:74: tree pruning end, 1 roots, 14 extra nodes, 0 pruned nodes, max_depth=5\u001b[0m\n",
      "\u001b[34m[102]#011train-error:0.048936#011validation-error:0.131356\u001b[0m\n",
      "\u001b[34m[11:51:33] src/tree/updater_prune.cc:74: tree pruning end, 1 roots, 16 extra nodes, 0 pruned nodes, max_depth=7\u001b[0m\n",
      "\u001b[34m[103]#011train-error:0.046809#011validation-error:0.131356\u001b[0m\n",
      "\u001b[34m[11:51:33] src/tree/updater_prune.cc:74: tree pruning end, 1 roots, 18 extra nodes, 0 pruned nodes, max_depth=6\u001b[0m\n",
      "\u001b[34m[104]#011train-error:0.045745#011validation-error:0.127119\u001b[0m\n",
      "\u001b[34m[11:51:33] src/tree/updater_prune.cc:74: tree pruning end, 1 roots, 16 extra nodes, 0 pruned nodes, max_depth=4\u001b[0m\n",
      "\u001b[34m[105]#011train-error:0.046809#011validation-error:0.131356\u001b[0m\n",
      "\u001b[34m[11:51:33] src/tree/updater_prune.cc:74: tree pruning end, 1 roots, 14 extra nodes, 0 pruned nodes, max_depth=4\u001b[0m\n",
      "\u001b[34m[106]#011train-error:0.046809#011validation-error:0.131356\u001b[0m\n",
      "\u001b[34m[11:51:33] src/tree/updater_prune.cc:74: tree pruning end, 1 roots, 16 extra nodes, 0 pruned nodes, max_depth=5\u001b[0m\n",
      "\u001b[34m[107]#011train-error:0.047872#011validation-error:0.131356\u001b[0m\n",
      "\u001b[34m[11:51:33] src/tree/updater_prune.cc:74: tree pruning end, 1 roots, 16 extra nodes, 0 pruned nodes, max_depth=5\u001b[0m\n",
      "\u001b[34m[108]#011train-error:0.046809#011validation-error:0.131356\u001b[0m\n",
      "\u001b[34m[11:51:33] src/tree/updater_prune.cc:74: tree pruning end, 1 roots, 16 extra nodes, 0 pruned nodes, max_depth=5\u001b[0m\n",
      "\u001b[34m[109]#011train-error:0.047872#011validation-error:0.127119\u001b[0m\n",
      "\u001b[34m[11:51:33] src/tree/updater_prune.cc:74: tree pruning end, 1 roots, 16 extra nodes, 0 pruned nodes, max_depth=5\u001b[0m\n",
      "\u001b[34m[110]#011train-error:0.046809#011validation-error:0.127119\u001b[0m\n",
      "\u001b[34m[11:51:33] src/tree/updater_prune.cc:74: tree pruning end, 1 roots, 16 extra nodes, 0 pruned nodes, max_depth=5\u001b[0m\n",
      "\u001b[34m[111]#011train-error:0.047872#011validation-error:0.127119\u001b[0m\n",
      "\u001b[34m[11:51:33] src/tree/updater_prune.cc:74: tree pruning end, 1 roots, 16 extra nodes, 0 pruned nodes, max_depth=4\u001b[0m\n",
      "\u001b[34m[112]#011train-error:0.045745#011validation-error:0.127119\u001b[0m\n",
      "\u001b[34m[11:51:33] src/tree/updater_prune.cc:74: tree pruning end, 1 roots, 18 extra nodes, 0 pruned nodes, max_depth=5\u001b[0m\n",
      "\u001b[34m[113]#011train-error:0.045745#011validation-error:0.127119\u001b[0m\n",
      "\u001b[34m[11:51:33] src/tree/updater_prune.cc:74: tree pruning end, 1 roots, 16 extra nodes, 0 pruned nodes, max_depth=6\u001b[0m\n",
      "\u001b[34m[114]#011train-error:0.045745#011validation-error:0.127119\u001b[0m\n",
      "\u001b[34m[11:51:33] src/tree/updater_prune.cc:74: tree pruning end, 1 roots, 18 extra nodes, 0 pruned nodes, max_depth=5\u001b[0m\n",
      "\u001b[34m[115]#011train-error:0.043617#011validation-error:0.127119\u001b[0m\n",
      "\u001b[34m[11:51:33] src/tree/updater_prune.cc:74: tree pruning end, 1 roots, 16 extra nodes, 0 pruned nodes, max_depth=5\u001b[0m\n",
      "\u001b[34m[116]#011train-error:0.040426#011validation-error:0.127119\u001b[0m\n",
      "\u001b[34m[11:51:33] src/tree/updater_prune.cc:74: tree pruning end, 1 roots, 16 extra nodes, 0 pruned nodes, max_depth=5\u001b[0m\n",
      "\u001b[34m[117]#011train-error:0.044681#011validation-error:0.127119\u001b[0m\n",
      "\u001b[34m[11:51:33] src/tree/updater_prune.cc:74: tree pruning end, 1 roots, 16 extra nodes, 0 pruned nodes, max_depth=4\u001b[0m\n",
      "\u001b[34m[118]#011train-error:0.045745#011validation-error:0.127119\u001b[0m\n",
      "\u001b[34m[11:51:33] src/tree/updater_prune.cc:74: tree pruning end, 1 roots, 14 extra nodes, 0 pruned nodes, max_depth=5\u001b[0m\n",
      "\u001b[34m[119]#011train-error:0.040426#011validation-error:0.127119\u001b[0m\n",
      "\u001b[34m[11:51:33] src/tree/updater_prune.cc:74: tree pruning end, 1 roots, 16 extra nodes, 0 pruned nodes, max_depth=6\u001b[0m\n",
      "\u001b[34m[120]#011train-error:0.044681#011validation-error:0.127119\u001b[0m\n",
      "\u001b[34m[11:51:33] src/tree/updater_prune.cc:74: tree pruning end, 1 roots, 16 extra nodes, 0 pruned nodes, max_depth=7\u001b[0m\n",
      "\u001b[34m[121]#011train-error:0.043617#011validation-error:0.127119\u001b[0m\n",
      "\u001b[34m[11:51:33] src/tree/updater_prune.cc:74: tree pruning end, 1 roots, 16 extra nodes, 0 pruned nodes, max_depth=5\u001b[0m\n",
      "\u001b[34m[122]#011train-error:0.042553#011validation-error:0.127119\u001b[0m\n",
      "\u001b[34m[11:51:33] src/tree/updater_prune.cc:74: tree pruning end, 1 roots, 16 extra nodes, 0 pruned nodes, max_depth=6\u001b[0m\n",
      "\u001b[34m[123]#011train-error:0.040426#011validation-error:0.127119\u001b[0m\n",
      "\u001b[34m[11:51:33] src/tree/updater_prune.cc:74: tree pruning end, 1 roots, 16 extra nodes, 0 pruned nodes, max_depth=4\u001b[0m\n",
      "\u001b[34m[124]#011train-error:0.041489#011validation-error:0.135593\u001b[0m\n",
      "\u001b[34m[11:51:33] src/tree/updater_prune.cc:74: tree pruning end, 1 roots, 18 extra nodes, 0 pruned nodes, max_depth=5\u001b[0m\n",
      "\u001b[34m[125]#011train-error:0.041489#011validation-error:0.135593\u001b[0m\n",
      "\u001b[34m[11:51:33] src/tree/updater_prune.cc:74: tree pruning end, 1 roots, 18 extra nodes, 0 pruned nodes, max_depth=5\u001b[0m\n",
      "\u001b[34m[126]#011train-error:0.040426#011validation-error:0.135593\u001b[0m\n",
      "\u001b[34m[11:51:33] src/tree/updater_prune.cc:74: tree pruning end, 1 roots, 16 extra nodes, 0 pruned nodes, max_depth=6\u001b[0m\n",
      "\u001b[34m[127]#011train-error:0.040426#011validation-error:0.135593\u001b[0m\n",
      "\u001b[34m[11:51:33] src/tree/updater_prune.cc:74: tree pruning end, 1 roots, 16 extra nodes, 0 pruned nodes, max_depth=7\u001b[0m\n",
      "\u001b[34m[128]#011train-error:0.039362#011validation-error:0.135593\u001b[0m\n",
      "\u001b[34m[11:51:33] src/tree/updater_prune.cc:74: tree pruning end, 1 roots, 16 extra nodes, 0 pruned nodes, max_depth=4\u001b[0m\n",
      "\u001b[34m[129]#011train-error:0.039362#011validation-error:0.131356\u001b[0m\n",
      "\u001b[34m[11:51:33] src/tree/updater_prune.cc:74: tree pruning end, 1 roots, 16 extra nodes, 0 pruned nodes, max_depth=4\u001b[0m\n",
      "\u001b[34m[130]#011train-error:0.038298#011validation-error:0.131356\u001b[0m\n",
      "\u001b[34m[11:51:33] src/tree/updater_prune.cc:74: tree pruning end, 1 roots, 16 extra nodes, 0 pruned nodes, max_depth=6\u001b[0m\n",
      "\u001b[34m[131]#011train-error:0.038298#011validation-error:0.131356\u001b[0m\n",
      "\u001b[34m[11:51:33] src/tree/updater_prune.cc:74: tree pruning end, 1 roots, 16 extra nodes, 0 pruned nodes, max_depth=5\u001b[0m\n",
      "\u001b[34m[132]#011train-error:0.038298#011validation-error:0.131356\u001b[0m\n",
      "\u001b[34m[11:51:33] src/tree/updater_prune.cc:74: tree pruning end, 1 roots, 14 extra nodes, 0 pruned nodes, max_depth=5\u001b[0m\n",
      "\u001b[34m[133]#011train-error:0.038298#011validation-error:0.131356\u001b[0m\n",
      "\u001b[34m[11:51:33] src/tree/updater_prune.cc:74: tree pruning end, 1 roots, 12 extra nodes, 0 pruned nodes, max_depth=4\u001b[0m\n",
      "\u001b[34m[134]#011train-error:0.038298#011validation-error:0.131356\u001b[0m\n",
      "\u001b[34m[11:51:33] src/tree/updater_prune.cc:74: tree pruning end, 1 roots, 16 extra nodes, 0 pruned nodes, max_depth=4\u001b[0m\n",
      "\u001b[34m[135]#011train-error:0.037234#011validation-error:0.131356\u001b[0m\n",
      "\u001b[34m[11:51:33] src/tree/updater_prune.cc:74: tree pruning end, 1 roots, 16 extra nodes, 0 pruned nodes, max_depth=5\u001b[0m\n",
      "\u001b[34m[136]#011train-error:0.037234#011validation-error:0.131356\u001b[0m\n",
      "\u001b[34m[11:51:33] src/tree/updater_prune.cc:74: tree pruning end, 1 roots, 14 extra nodes, 0 pruned nodes, max_depth=5\u001b[0m\n",
      "\u001b[34m[137]#011train-error:0.037234#011validation-error:0.135593\u001b[0m\n",
      "\u001b[34m[11:51:33] src/tree/updater_prune.cc:74: tree pruning end, 1 roots, 14 extra nodes, 0 pruned nodes, max_depth=6\u001b[0m\n",
      "\u001b[34m[138]#011train-error:0.037234#011validation-error:0.131356\u001b[0m\n",
      "\u001b[34m[11:51:33] src/tree/updater_prune.cc:74: tree pruning end, 1 roots, 14 extra nodes, 0 pruned nodes, max_depth=5\u001b[0m\n",
      "\u001b[34m[139]#011train-error:0.037234#011validation-error:0.139831\u001b[0m\n",
      "\u001b[34m[11:51:33] src/tree/updater_prune.cc:74: tree pruning end, 1 roots, 14 extra nodes, 0 pruned nodes, max_depth=5\u001b[0m\n",
      "\u001b[34m[140]#011train-error:0.037234#011validation-error:0.135593\u001b[0m\n",
      "\u001b[34m[11:51:33] src/tree/updater_prune.cc:74: tree pruning end, 1 roots, 14 extra nodes, 0 pruned nodes, max_depth=6\u001b[0m\n",
      "\u001b[34m[141]#011train-error:0.037234#011validation-error:0.139831\u001b[0m\n",
      "\u001b[34m[11:51:33] src/tree/updater_prune.cc:74: tree pruning end, 1 roots, 16 extra nodes, 0 pruned nodes, max_depth=4\u001b[0m\n",
      "\u001b[34m[142]#011train-error:0.037234#011validation-error:0.135593\u001b[0m\n",
      "\u001b[34m[11:51:33] src/tree/updater_prune.cc:74: tree pruning end, 1 roots, 16 extra nodes, 0 pruned nodes, max_depth=6\u001b[0m\n",
      "\u001b[34m[143]#011train-error:0.037234#011validation-error:0.139831\u001b[0m\n",
      "\u001b[34m[11:51:33] src/tree/updater_prune.cc:74: tree pruning end, 1 roots, 16 extra nodes, 0 pruned nodes, max_depth=6\u001b[0m\n",
      "\u001b[34m[144]#011train-error:0.038298#011validation-error:0.135593\u001b[0m\n",
      "\u001b[34m[11:51:33] src/tree/updater_prune.cc:74: tree pruning end, 1 roots, 14 extra nodes, 0 pruned nodes, max_depth=5\u001b[0m\n",
      "\u001b[34m[145]#011train-error:0.038298#011validation-error:0.135593\u001b[0m\n",
      "\u001b[34m[11:51:33] src/tree/updater_prune.cc:74: tree pruning end, 1 roots, 14 extra nodes, 0 pruned nodes, max_depth=4\u001b[0m\n",
      "\u001b[34m[146]#011train-error:0.038298#011validation-error:0.131356\u001b[0m\n",
      "\u001b[34m[11:51:33] src/tree/updater_prune.cc:74: tree pruning end, 1 roots, 16 extra nodes, 0 pruned nodes, max_depth=6\u001b[0m\n",
      "\u001b[34m[147]#011train-error:0.038298#011validation-error:0.131356\u001b[0m\n",
      "\u001b[34m[11:51:33] src/tree/updater_prune.cc:74: tree pruning end, 1 roots, 16 extra nodes, 0 pruned nodes, max_depth=5\u001b[0m\n",
      "\u001b[34m[148]#011train-error:0.038298#011validation-error:0.131356\u001b[0m\n",
      "\u001b[34m[11:51:33] src/tree/updater_prune.cc:74: tree pruning end, 1 roots, 12 extra nodes, 0 pruned nodes, max_depth=3\u001b[0m\n",
      "\u001b[34m[149]#011train-error:0.037234#011validation-error:0.131356\u001b[0m\n",
      "\n",
      "2023-12-24 11:51:51 Completed - Training job completed\n",
      "Training seconds: 112\n",
      "Billable seconds: 112\n",
      "CPU times: user 720 ms, sys: 44.9 ms, total: 765 ms\n",
      "Wall time: 4min 13s\n"
     ]
    }
   ],
   "source": [
    "%%time\n",
    "xgb.fit({'train': s3_input_train, \n",
    "         'validation': s3_input_validation})"
   ]
  },
  {
   "cell_type": "markdown",
   "id": "53ebb54f-9305-4154-b709-9988cedf80ee",
   "metadata": {},
   "source": [
    "### Deployment"
   ]
  },
  {
   "cell_type": "code",
   "execution_count": 25,
   "id": "37519cc0-1bed-4b32-8efd-c840178b5efb",
   "metadata": {},
   "outputs": [
    {
     "name": "stderr",
     "output_type": "stream",
     "text": [
      "INFO:sagemaker:Creating model with name: sagemaker-hr-attrition\n",
      "INFO:sagemaker:Creating endpoint-config with name sagemaker-hr-attrition\n",
      "INFO:sagemaker:Creating endpoint with name sagemaker-hr-attrition\n"
     ]
    },
    {
     "name": "stdout",
     "output_type": "stream",
     "text": [
      "------!"
     ]
    }
   ],
   "source": [
    "model_name = \"sagemaker-hr-attrition\"\n",
    "\n",
    "xgb_predictor = xgb.deploy(\n",
    "    initial_instance_count=1,\n",
    "    instance_type=instance_type,\n",
    "    model_name=model_name,\n",
    "    endpoint_name=model_name,\n",
    ")"
   ]
  },
  {
   "cell_type": "markdown",
   "id": "b5487f96-a626-4fa6-8abb-8ee1399f808c",
   "metadata": {},
   "source": [
    "### Evaluation"
   ]
  },
  {
   "cell_type": "code",
   "execution_count": 27,
   "id": "815e6a24-b47a-41e0-abbe-847024fbb328",
   "metadata": {},
   "outputs": [],
   "source": [
    "from sagemaker.serializers import CSVSerializer\n",
    "\n",
    "xgb_predictor.serializer = CSVSerializer()"
   ]
  },
  {
   "cell_type": "code",
   "execution_count": 28,
   "id": "1bed677f-b1f2-4084-9e96-5bb19eb5d222",
   "metadata": {},
   "outputs": [],
   "source": [
    "predictions = xgb_predictor.predict(x_test.values)\n",
    "y_pred = np.fromstring(predictions.decode(\"utf-8\"), sep=\",\")"
   ]
  },
  {
   "cell_type": "code",
   "execution_count": 31,
   "id": "293f4bb6-009e-4db1-88fb-c16376c9753f",
   "metadata": {},
   "outputs": [
    {
     "name": "stdout",
     "output_type": "stream",
     "text": [
      "[[241   6]\n",
      " [ 28  19]]\n",
      "Accuracy: 0.884354\n"
     ]
    }
   ],
   "source": [
    "from sklearn.metrics import confusion_matrix, accuracy_score\n",
    "\n",
    "conf_matrix = confusion_matrix(y_test, y_pred.round())\n",
    "print(conf_matrix)\n",
    "print(\"Accuracy:\", round(accuracy_score(y_test, y_pred.round()), 6))"
   ]
  },
  {
   "cell_type": "markdown",
   "id": "2c7e8875-c724-4c32-9284-82ec34c7c8c7",
   "metadata": {},
   "source": [
    "### Endpoint Predictor"
   ]
  },
  {
   "cell_type": "code",
   "execution_count": 32,
   "id": "b9fcc788-2992-4393-9e62-084490b8a63b",
   "metadata": {},
   "outputs": [
    {
     "name": "stdout",
     "output_type": "stream",
     "text": [
      "sagemaker.config INFO - Not applying SDK defaults from location: /etc/xdg/sagemaker/config.yaml\n",
      "sagemaker.config INFO - Not applying SDK defaults from location: /home/sagemaker-user/.config/sagemaker/config.yaml\n"
     ]
    }
   ],
   "source": [
    "from sagemaker.predictor import Predictor\n",
    "\n",
    "predictor_ep = Predictor(endpoint_name=model_name)\n",
    "predictor_ep.serializer = CSVSerializer()"
   ]
  },
  {
   "cell_type": "code",
   "execution_count": 34,
   "id": "48c55226-11c6-4397-ba2d-88c1a62c77e5",
   "metadata": {},
   "outputs": [],
   "source": [
    "predictions_ep = predictor_ep.predict(x_test.values)\n",
    "y_pred_ep = np.fromstring(predictions_ep.decode(\"utf-8\"), sep=\",\")"
   ]
  },
  {
   "cell_type": "code",
   "execution_count": 41,
   "id": "536000a6-57f2-45be-b772-a8992be5d35b",
   "metadata": {},
   "outputs": [
    {
     "data": {
      "text/plain": [
       "'1,474,0,3,3,2,1,0,3,1,4,4,1,2061,1,0,0,3\\n'"
      ]
     },
     "execution_count": 41,
     "metadata": {},
     "output_type": "execute_result"
    }
   ],
   "source": [
    "x_test.iloc[[0]].to_csv(header=False, index=False)"
   ]
  },
  {
   "cell_type": "code",
   "execution_count": null,
   "id": "b28b11f1-1045-47ce-aadc-a8e4a368bf94",
   "metadata": {},
   "outputs": [],
   "source": []
  },
  {
   "cell_type": "code",
   "execution_count": null,
   "id": "cf73e5e7-d67e-435a-803d-8929a53f2098",
   "metadata": {},
   "outputs": [],
   "source": []
  }
 ],
 "metadata": {
  "kernelspec": {
   "display_name": "Python 3 (ipykernel)",
   "language": "python",
   "name": "python3"
  },
  "language_info": {
   "codemirror_mode": {
    "name": "ipython",
    "version": 3
   },
   "file_extension": ".py",
   "mimetype": "text/x-python",
   "name": "python",
   "nbconvert_exporter": "python",
   "pygments_lexer": "ipython3",
   "version": "3.10.13"
  }
 },
 "nbformat": 4,
 "nbformat_minor": 5
}
